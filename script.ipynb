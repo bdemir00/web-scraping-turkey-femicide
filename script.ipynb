{
 "cells": [
  {
   "cell_type": "markdown",
   "id": "bc55d2e1",
   "metadata": {},
   "source": [
    "**Install requirements**"
   ]
  },
  {
   "cell_type": "code",
   "execution_count": null,
   "id": "8d01c242",
   "metadata": {},
   "outputs": [],
   "source": [
    "%pip install -r requirements.txt"
   ]
  },
  {
   "cell_type": "markdown",
   "id": "f2edbe62",
   "metadata": {},
   "source": [
    "**Import libraries**"
   ]
  },
  {
   "cell_type": "code",
   "execution_count": 45,
   "id": "7395e022-5180-43a9-9360-f9e90d7dcc3f",
   "metadata": {},
   "outputs": [],
   "source": [
    "from bs4 import BeautifulSoup\n",
    "import requests\n",
    "import pandas as pd\n",
    "import json\n",
    "from sqlalchemy import create_engine\n",
    "from sqlalchemy_utils import database_exists, create_database"
   ]
  },
  {
   "cell_type": "markdown",
   "id": "f0aaa862",
   "metadata": {},
   "source": [
    "**Access website**"
   ]
  },
  {
   "cell_type": "code",
   "execution_count": 39,
   "id": "9bb46a99-ec40-47ab-8051-d1cdf9c4036b",
   "metadata": {},
   "outputs": [],
   "source": [
    "url = 'https://anitsayac.com/'\n",
    "page = requests.get(url).text\n",
    "soup = BeautifulSoup(page, 'html.parser')"
   ]
  },
  {
   "cell_type": "markdown",
   "id": "cd90f54a",
   "metadata": {},
   "source": [
    "**Extract links of individual webpages**"
   ]
  },
  {
   "cell_type": "code",
   "execution_count": 40,
   "id": "e0d5f11c",
   "metadata": {},
   "outputs": [],
   "source": [
    "spans = soup.find_all('span', class_='xxy')\n",
    "links = []\n",
    "for span in spans:\n",
    "    link = span.find('a')\n",
    "    links.append(link['href'])"
   ]
  },
  {
   "cell_type": "markdown",
   "id": "2919a856",
   "metadata": {},
   "source": [
    "**Function to extract data**"
   ]
  },
  {
   "cell_type": "code",
   "execution_count": 41,
   "id": "5d8fc209-f92b-4450-bdc1-e9f36f3832c7",
   "metadata": {},
   "outputs": [],
   "source": [
    "def get_data(links):\n",
    "    fields = [\n",
    "        'Ad Soyad:',\n",
    "        'Maktülün yaşı: ',\n",
    "        'İl/ilçe: ',\n",
    "        'Tarih: ',\n",
    "        'Neden öldürüldü:',\n",
    "        'Kim tarafından öldürüldü:',\n",
    "        'Korunma talebi:',\n",
    "        'Öldürülme şekli:',\n",
    "        'Failin durumu: '\n",
    "    ]\n",
    "    data_list = []\n",
    "    \n",
    "    for link in links:\n",
    "        url = 'https://anitsayac.com/' + link\n",
    "        details_page = requests.get(url).text\n",
    "        local_soup = BeautifulSoup(details_page, 'html.parser')\n",
    "        data = []\n",
    "        \n",
    "        for field in fields:\n",
    "            tag = local_soup.find('b', string=field)\n",
    "            if tag:\n",
    "                data.append(tag.next_sibling.strip())\n",
    "            else:\n",
    "                data.append('')    \n",
    "        data_list.append(data)\n",
    "\n",
    "    df = pd.DataFrame(data_list,columns=fields)\n",
    "    return df"
   ]
  },
  {
   "cell_type": "markdown",
   "id": "fd5ad084",
   "metadata": {},
   "source": [
    "**Extract data**"
   ]
  },
  {
   "cell_type": "code",
   "execution_count": 42,
   "id": "e9ac282b-db09-41b0-976d-0f97f6bcdabe",
   "metadata": {},
   "outputs": [],
   "source": [
    "data = get_data(links)"
   ]
  },
  {
   "cell_type": "markdown",
   "id": "db287178",
   "metadata": {},
   "source": [
    "**Rename columns**"
   ]
  },
  {
   "cell_type": "code",
   "execution_count": 43,
   "id": "d257a60f-c6c4-4e14-b4aa-2abdf8f6cefa",
   "metadata": {},
   "outputs": [
    {
     "data": {
      "text/html": [
       "<div>\n",
       "<style scoped>\n",
       "    .dataframe tbody tr th:only-of-type {\n",
       "        vertical-align: middle;\n",
       "    }\n",
       "\n",
       "    .dataframe tbody tr th {\n",
       "        vertical-align: top;\n",
       "    }\n",
       "\n",
       "    .dataframe thead th {\n",
       "        text-align: right;\n",
       "    }\n",
       "</style>\n",
       "<table border=\"1\" class=\"dataframe\">\n",
       "  <thead>\n",
       "    <tr style=\"text-align: right;\">\n",
       "      <th></th>\n",
       "      <th>Ad</th>\n",
       "      <th>Yaş</th>\n",
       "      <th>Konum</th>\n",
       "      <th>Tarih</th>\n",
       "      <th>Öldürülme_sebebi</th>\n",
       "      <th>Fail</th>\n",
       "      <th>Korunma_talebi</th>\n",
       "      <th>Öldürülme_şekli</th>\n",
       "      <th>Failin_durumu</th>\n",
       "    </tr>\n",
       "  </thead>\n",
       "  <tbody>\n",
       "    <tr>\n",
       "      <th>0</th>\n",
       "      <td>Sudenaz U.</td>\n",
       "      <td>Reşit</td>\n",
       "      <td>Diyarbakır</td>\n",
       "      <td>08/11/2024</td>\n",
       "      <td>Nefret Suçu</td>\n",
       "      <td>Tanımadığı Birileri</td>\n",
       "      <td>Yok</td>\n",
       "      <td>Kesici Alet</td>\n",
       "      <td>Tutuklu</td>\n",
       "    </tr>\n",
       "    <tr>\n",
       "      <th>1</th>\n",
       "      <td>Asiye Günay</td>\n",
       "      <td>Reşit</td>\n",
       "      <td>Kütahya</td>\n",
       "      <td>06/11/2024</td>\n",
       "      <td>Tespit Edilemeyen</td>\n",
       "      <td>Tespit Edilemeyen</td>\n",
       "      <td>Yok</td>\n",
       "      <td>Tespit Edilemeyen</td>\n",
       "      <td>Tespit Edilemeyen</td>\n",
       "    </tr>\n",
       "    <tr>\n",
       "      <th>2</th>\n",
       "      <td>Fahriye Asena Eskikanbur</td>\n",
       "      <td>Reşit</td>\n",
       "      <td>Adana</td>\n",
       "      <td>03/11/2024</td>\n",
       "      <td>Reddedilme</td>\n",
       "      <td>Eski Sevgilisi</td>\n",
       "      <td>Yok</td>\n",
       "      <td>Ateşli Silah</td>\n",
       "      <td>İntihara Teşebbüs</td>\n",
       "    </tr>\n",
       "    <tr>\n",
       "      <th>3</th>\n",
       "      <td>Elif Gözen</td>\n",
       "      <td>Reşit</td>\n",
       "      <td>Hatay</td>\n",
       "      <td>03/11/2024</td>\n",
       "      <td>Tespit Edilemeyen</td>\n",
       "      <td>Kocası</td>\n",
       "      <td>Yok</td>\n",
       "      <td>Tespit Edilemeyen</td>\n",
       "      <td>Tutuklu</td>\n",
       "    </tr>\n",
       "    <tr>\n",
       "      <th>4</th>\n",
       "      <td>Bahriye Kalaycı</td>\n",
       "      <td>Reşit</td>\n",
       "      <td>Konya</td>\n",
       "      <td>02/11/2024</td>\n",
       "      <td>Tartışma</td>\n",
       "      <td>Eski Kocası</td>\n",
       "      <td>Yok</td>\n",
       "      <td>Kesici Alet</td>\n",
       "      <td>İntihara Teşebbüs</td>\n",
       "    </tr>\n",
       "    <tr>\n",
       "      <th>...</th>\n",
       "      <td>...</td>\n",
       "      <td>...</td>\n",
       "      <td>...</td>\n",
       "      <td>...</td>\n",
       "      <td>...</td>\n",
       "      <td>...</td>\n",
       "      <td>...</td>\n",
       "      <td>...</td>\n",
       "      <td>...</td>\n",
       "    </tr>\n",
       "    <tr>\n",
       "      <th>5023</th>\n",
       "      <td>Gülceren Karakaş</td>\n",
       "      <td></td>\n",
       "      <td></td>\n",
       "      <td>10/01/2008</td>\n",
       "      <td>Tespit Edilemeyen</td>\n",
       "      <td>Tanımadığı Biri</td>\n",
       "      <td>Tespit Edilemeyen</td>\n",
       "      <td>Kesici Alet</td>\n",
       "      <td></td>\n",
       "    </tr>\n",
       "    <tr>\n",
       "      <th>5024</th>\n",
       "      <td>Hashatun Danışmaz</td>\n",
       "      <td></td>\n",
       "      <td></td>\n",
       "      <td>09/01/2008</td>\n",
       "      <td>Boşanma</td>\n",
       "      <td>Kocası</td>\n",
       "      <td>Var</td>\n",
       "      <td>Ateşli Silah</td>\n",
       "      <td></td>\n",
       "    </tr>\n",
       "    <tr>\n",
       "      <th>5025</th>\n",
       "      <td>Emel Çalış</td>\n",
       "      <td></td>\n",
       "      <td></td>\n",
       "      <td>07/01/2008</td>\n",
       "      <td>Reddetme</td>\n",
       "      <td>Eski Sevgilisi</td>\n",
       "      <td>Tespit Edilemeyen</td>\n",
       "      <td>Ateşli Silah</td>\n",
       "      <td></td>\n",
       "    </tr>\n",
       "    <tr>\n",
       "      <th>5026</th>\n",
       "      <td>Gönül Özcan</td>\n",
       "      <td></td>\n",
       "      <td></td>\n",
       "      <td>06/01/2008</td>\n",
       "      <td>Kriz ve İşsizlik</td>\n",
       "      <td>Damadı</td>\n",
       "      <td>Tespit Edilemeyen</td>\n",
       "      <td>Ateşli Silah</td>\n",
       "      <td></td>\n",
       "    </tr>\n",
       "    <tr>\n",
       "      <th>5027</th>\n",
       "      <td>Figen İskeçe</td>\n",
       "      <td></td>\n",
       "      <td>İstanbul</td>\n",
       "      <td>01/01/2008</td>\n",
       "      <td>Tespit Edilemeyen</td>\n",
       "      <td>Oğlu</td>\n",
       "      <td>Yok</td>\n",
       "      <td>Kesici Alet</td>\n",
       "      <td>Tutuklu</td>\n",
       "    </tr>\n",
       "  </tbody>\n",
       "</table>\n",
       "<p>5028 rows × 9 columns</p>\n",
       "</div>"
      ],
      "text/plain": [
       "                            Ad    Yaş       Konum       Tarih  \\\n",
       "0                   Sudenaz U.  Reşit  Diyarbakır  08/11/2024   \n",
       "1                  Asiye Günay  Reşit     Kütahya  06/11/2024   \n",
       "2     Fahriye Asena Eskikanbur  Reşit       Adana  03/11/2024   \n",
       "3                   Elif Gözen  Reşit       Hatay  03/11/2024   \n",
       "4              Bahriye Kalaycı  Reşit       Konya  02/11/2024   \n",
       "...                        ...    ...         ...         ...   \n",
       "5023          Gülceren Karakaş                     10/01/2008   \n",
       "5024         Hashatun Danışmaz                     09/01/2008   \n",
       "5025                Emel Çalış                     07/01/2008   \n",
       "5026               Gönül Özcan                     06/01/2008   \n",
       "5027              Figen İskeçe           İstanbul  01/01/2008   \n",
       "\n",
       "       Öldürülme_sebebi                 Fail     Korunma_talebi  \\\n",
       "0           Nefret Suçu  Tanımadığı Birileri                Yok   \n",
       "1     Tespit Edilemeyen    Tespit Edilemeyen                Yok   \n",
       "2            Reddedilme       Eski Sevgilisi                Yok   \n",
       "3     Tespit Edilemeyen               Kocası                Yok   \n",
       "4              Tartışma          Eski Kocası                Yok   \n",
       "...                 ...                  ...                ...   \n",
       "5023  Tespit Edilemeyen      Tanımadığı Biri  Tespit Edilemeyen   \n",
       "5024            Boşanma               Kocası                Var   \n",
       "5025           Reddetme       Eski Sevgilisi  Tespit Edilemeyen   \n",
       "5026   Kriz ve İşsizlik               Damadı  Tespit Edilemeyen   \n",
       "5027  Tespit Edilemeyen                 Oğlu                Yok   \n",
       "\n",
       "        Öldürülme_şekli      Failin_durumu  \n",
       "0           Kesici Alet            Tutuklu  \n",
       "1     Tespit Edilemeyen  Tespit Edilemeyen  \n",
       "2          Ateşli Silah  İntihara Teşebbüs  \n",
       "3     Tespit Edilemeyen            Tutuklu  \n",
       "4           Kesici Alet  İntihara Teşebbüs  \n",
       "...                 ...                ...  \n",
       "5023        Kesici Alet                     \n",
       "5024       Ateşli Silah                     \n",
       "5025       Ateşli Silah                     \n",
       "5026       Ateşli Silah                     \n",
       "5027        Kesici Alet            Tutuklu  \n",
       "\n",
       "[5028 rows x 9 columns]"
      ]
     },
     "execution_count": 43,
     "metadata": {},
     "output_type": "execute_result"
    }
   ],
   "source": [
    "data.columns =[\n",
    "    'Ad',\n",
    "    'Yaş',\n",
    "    'Konum',\n",
    "    'Tarih',\n",
    "    'Öldürülme_sebebi',\n",
    "    'Fail',\n",
    "    'Korunma_talebi',\n",
    "    'Öldürülme_şekli',\n",
    "    'Failin_durumu'\n",
    "]\n",
    "\n",
    "data"
   ]
  },
  {
   "cell_type": "markdown",
   "id": "877f7025",
   "metadata": {},
   "source": [
    "**Connect to mysql**"
   ]
  },
  {
   "cell_type": "code",
   "execution_count": 47,
   "id": "93f8485e",
   "metadata": {},
   "outputs": [],
   "source": [
    "# Load credentials from config file\n",
    "with open('db_config.json') as f:\n",
    "    config = json.load(f)\n",
    "\n",
    "db_user = config[\"DB_USER\"]\n",
    "db_pass = config[\"DB_PASSWORD\"]\n",
    "db_addr = config[\"DB_HOST\"]\n",
    "db_name = config[\"DB_NAME\"]\n",
    "engine = create_engine(f'mysql+mysqldb://{db_user}:{db_pass}@{db_addr}/{db_name}')\n",
    "\n",
    "if not database_exists(engine.url): \n",
    "    create_database(engine.url)\n",
    "else:\n",
    "    engine.connect()"
   ]
  },
  {
   "cell_type": "markdown",
   "id": "a4b34883",
   "metadata": {},
   "source": [
    "**Load data frame to database**"
   ]
  },
  {
   "cell_type": "code",
   "execution_count": 48,
   "id": "be1a6a99",
   "metadata": {},
   "outputs": [
    {
     "data": {
      "text/plain": [
       "5028"
      ]
     },
     "execution_count": 48,
     "metadata": {},
     "output_type": "execute_result"
    }
   ],
   "source": [
    "data.to_sql(con=engine, name='victims', if_exists='replace', index=False)\n"
   ]
  }
 ],
 "metadata": {
  "kernelspec": {
   "display_name": "Python 3 (ipykernel)",
   "language": "python",
   "name": "python3"
  },
  "language_info": {
   "codemirror_mode": {
    "name": "ipython",
    "version": 3
   },
   "file_extension": ".py",
   "mimetype": "text/x-python",
   "name": "python",
   "nbconvert_exporter": "python",
   "pygments_lexer": "ipython3",
   "version": "3.11.5"
  }
 },
 "nbformat": 4,
 "nbformat_minor": 5
}
